{
 "cells": [
  {
   "cell_type": "code",
   "execution_count": 16,
   "id": "5f682dbe",
   "metadata": {},
   "outputs": [],
   "source": [
    "import os"
   ]
  },
  {
   "cell_type": "code",
   "execution_count": 17,
   "id": "84bf89f3",
   "metadata": {},
   "outputs": [
    {
     "data": {
      "text/plain": [
       "'c:\\\\Users\\\\GEN-AI\\\\End-to-End-machine-project-with-mlflow-'"
      ]
     },
     "execution_count": 17,
     "metadata": {},
     "output_type": "execute_result"
    }
   ],
   "source": [
    "%pwd"
   ]
  },
  {
   "cell_type": "code",
   "execution_count": null,
   "id": "148e03fd",
   "metadata": {},
   "outputs": [],
   "source": [
    "#os.chdir(\"../\")"
   ]
  },
  {
   "cell_type": "code",
   "execution_count": 18,
   "id": "7e401b03",
   "metadata": {},
   "outputs": [
    {
     "data": {
      "text/plain": [
       "'c:\\\\Users\\\\GEN-AI\\\\End-to-End-machine-project-with-mlflow-'"
      ]
     },
     "execution_count": 18,
     "metadata": {},
     "output_type": "execute_result"
    }
   ],
   "source": [
    "%pwd"
   ]
  },
  {
   "cell_type": "code",
   "execution_count": null,
   "id": "51aa7de3",
   "metadata": {},
   "outputs": [],
   "source": [
    "from dataclasses import dataclass\n",
    "from pathlib import Path\n",
    "\n",
    "\n",
    "@dataclass(frozen=True)\n",
    "class ModelTrainerConfig:\n",
    "    root_dir: Path\n",
    "    train_data_path: Path\n",
    "    test_data_path: Path\n",
    "        \n",
    "\n",
    "    \n",
    "    model_name: str\n",
    "    alpha : float\n",
    "    l1_ratio : float\n",
    "    target_column: str\n"
   ]
  },
  {
   "cell_type": "code",
   "execution_count": 32,
   "id": "759b2df6",
   "metadata": {},
   "outputs": [],
   "source": [
    "from mlProject.constants import *\n",
    "from mlProject.utils.common import read_yaml, create_directories\n",
    "\n",
    "class ConfigurationManger:\n",
    "    def __init__(\n",
    "            self,\n",
    "            config_filepath = CONFIG_FILE_PATH,\n",
    "            params_filepth  = PARAMS_FILE_PATH,\n",
    "            schema_filepath = SCHEMA_FILE_PATH):\n",
    "\n",
    "            self.config = read_yaml(config_filepath)\n",
    "            self.params  = read_yaml(params_filepth)\n",
    "            self.schema = read_yaml(schema_filepath)\n",
    "\n",
    "            create_directories([self.config.artifacts_root])\n",
    "\n",
    "\n",
    "    def get_model_trainer_config(self)  -> ModelTrainerConfig:\n",
    "          config = self.config.model_trainer\n",
    "          params  = self.params.ElasticNet\n",
    "          schema = self.schema.TARGET_COLUMN\n",
    "\n",
    "          create_directories([config.root_dir])\n",
    "\n",
    "          model_trainer_config = ModelTrainerConfig(\n",
    "                root_dir = config.root_dir,\n",
    "                train_data_path = config.train_data_path,\n",
    "                test_data_path = config.test_data_path,\n",
    "                model_name = config.model_name,\n",
    "                alpha = params.alpha,\n",
    "                l1_ratio  = params.l1_ratio,\n",
    "                target_column = schema.name\n",
    "          )\n",
    "\n",
    "          return model_trainer_config\n",
    "        \n",
    "\n",
    "    "
   ]
  },
  {
   "cell_type": "code",
   "execution_count": 33,
   "id": "2a333abe",
   "metadata": {},
   "outputs": [],
   "source": [
    "import pandas as pd\n",
    "from sklearn.linear_model import ElasticNet\n",
    "from mlProject import logger\n",
    "import joblib\n"
   ]
  },
  {
   "cell_type": "code",
   "execution_count": 39,
   "id": "3c5d8eca",
   "metadata": {},
   "outputs": [],
   "source": [
    "class ModelTrainer:\n",
    "    def __init__(self,config:ModelTrainerConfig):\n",
    "        self.config  =config\n",
    "\n",
    "    def train(self):\n",
    "        train_data = pd.read_csv(self.config.train_data_path)\n",
    "        test_data = pd.read_csv(self.config.test_data_path)\n",
    "        \n",
    "\n",
    "        train_x = train_data.drop([self.config.target_column],axis=1)\n",
    "        test_y = test_data.drop([self.config.target_column],axis=1)\n",
    "        train_y =train_data[[self.config.target_column]]\n",
    "        test_y  = test_data[[self.config.target_column]]\n",
    "\n",
    "\n",
    "        lr = ElasticNet(alpha = self.config.alpha,l1_ratio = self.config.l1_ratio,random_state=43)\n",
    "        lr.fit(train_x,train_y)\n",
    "\n",
    "        joblib.dump(lr,os.path.join(self.config.root_dir,self.config.model_name))"
   ]
  },
  {
   "cell_type": "code",
   "execution_count": 40,
   "id": "251fa1ee",
   "metadata": {},
   "outputs": [
    {
     "name": "stdout",
     "output_type": "stream",
     "text": [
      "[2025-06-19 16:32:25,292: INFO: common: YAML file config\\config.yaml loaded successfully]\n",
      "[2025-06-19 16:32:25,314: INFO: common: YAML file params.yaml loaded successfully]\n",
      "[2025-06-19 16:32:25,322: INFO: common: YAML file schema.yaml loaded successfully]\n",
      "[2025-06-19 16:32:25,330: INFO: common: Created directory at: artifacts]\n",
      "[2025-06-19 16:32:25,334: INFO: common: Created directory at: artifacts/model_trainer]\n"
     ]
    }
   ],
   "source": [
    "try:\n",
    "    config = ConfigurationManger()\n",
    "    model_trainer_config = config.get_model_trainer_config()\n",
    "    model_trainer_config = ModelTrainer(config = model_trainer_config)\n",
    "    model_trainer_config.train()\n",
    "except Exception as e:\n",
    "    raise e"
   ]
  },
  {
   "cell_type": "code",
   "execution_count": null,
   "id": "c55a0015",
   "metadata": {},
   "outputs": [],
   "source": []
  }
 ],
 "metadata": {
  "kernelspec": {
   "display_name": "Python 3",
   "language": "python",
   "name": "python3"
  },
  "language_info": {
   "codemirror_mode": {
    "name": "ipython",
    "version": 3
   },
   "file_extension": ".py",
   "mimetype": "text/x-python",
   "name": "python",
   "nbconvert_exporter": "python",
   "pygments_lexer": "ipython3",
   "version": "3.13.2"
  }
 },
 "nbformat": 4,
 "nbformat_minor": 5
}
