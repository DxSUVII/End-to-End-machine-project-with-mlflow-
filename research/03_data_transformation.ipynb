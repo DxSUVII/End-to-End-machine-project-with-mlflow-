{
 "cells": [
  {
   "cell_type": "code",
   "execution_count": 1,
   "id": "47902810",
   "metadata": {},
   "outputs": [],
   "source": [
    "import os "
   ]
  },
  {
   "cell_type": "code",
   "execution_count": 2,
   "id": "6d601716",
   "metadata": {},
   "outputs": [
    {
     "data": {
      "text/plain": [
       "'c:\\\\Users\\\\GEN-AI\\\\End-to-End-machine-project-with-mlflow-\\\\research'"
      ]
     },
     "execution_count": 2,
     "metadata": {},
     "output_type": "execute_result"
    }
   ],
   "source": [
    "%pwd"
   ]
  },
  {
   "cell_type": "code",
   "execution_count": 4,
   "id": "e629473f",
   "metadata": {},
   "outputs": [],
   "source": [
    "os.chdir(\"../\")"
   ]
  },
  {
   "cell_type": "code",
   "execution_count": 5,
   "id": "62dae36a",
   "metadata": {},
   "outputs": [
    {
     "data": {
      "text/plain": [
       "'c:\\\\Users\\\\GEN-AI\\\\End-to-End-machine-project-with-mlflow-'"
      ]
     },
     "execution_count": 5,
     "metadata": {},
     "output_type": "execute_result"
    }
   ],
   "source": [
    "%pwd"
   ]
  },
  {
   "cell_type": "code",
   "execution_count": 6,
   "id": "799734cb",
   "metadata": {},
   "outputs": [],
   "source": [
    "from dataclasses import dataclass\n",
    "from pathlib import Path \n",
    "\n",
    "\n",
    "@dataclass(frozen=True)\n",
    "class DataTransformationConfig:\n",
    "    root_dir: Path\n",
    "    data_path: Path"
   ]
  },
  {
   "cell_type": "code",
   "execution_count": 7,
   "id": "72d27af6",
   "metadata": {},
   "outputs": [],
   "source": [
    "# the prepre for configurtion \n",
    "from mlProject.utils.common import read_yaml,create_directories\n",
    "from mlProject.constants import *"
   ]
  },
  {
   "cell_type": "code",
   "execution_count": 8,
   "id": "737b1018",
   "metadata": {},
   "outputs": [],
   "source": [
    "class ConfigurationManger:\n",
    "    def __init__(\n",
    "            self,\n",
    "            config_filepath = CONFIG_FILE_PATH, # path to config file\n",
    "            params_filepath=PARAMS_FILE_PATH,\n",
    "            schema_filepath=SCHEMA_FILE_PATH\n",
    "                 ):\n",
    "        self.config = read_yaml(config_filepath) # read config\n",
    "        self.params = read_yaml(params_filepath) # read params\n",
    "        self.schema = read_yaml(schema_filepath) # read schema\n",
    "\n",
    "        create_directories([self.config.artifacts_root])  # create directories if not exist\n",
    "\n",
    "    def get_data_transformation_config(self)->  DataTransformationConfig:\n",
    "        config =  self.config.data_transformation\n",
    "        create_directories([config.root_dir])\n",
    "\n",
    "        data_transformation_config = DataTransformationConfig(\n",
    "            root_dir=config.root_dir,\n",
    "            data_path =config.data_path,\n",
    "        )\n",
    "\n",
    "        return data_transformation_config\n"
   ]
  },
  {
   "cell_type": "code",
   "execution_count": 9,
   "id": "e504a4e4",
   "metadata": {},
   "outputs": [],
   "source": [
    "import os\n",
    "from mlProject import logger\n",
    "from sklearn.model_selection import train_test_split\n",
    "import pandas as pd"
   ]
  },
  {
   "cell_type": "code",
   "execution_count": 10,
   "id": "3fb8f2a4",
   "metadata": {},
   "outputs": [],
   "source": [
    "\n",
    "class DataTransformation:\n",
    "    def __init__(self,config: DataTransformationConfig):\n",
    "        self.config = config\n",
    "\n",
    "    def train_test_spliting(self):\n",
    "        data= pd.read_csv(self.config.data_path)\n",
    "        train,test  = train_test_split(data)\n",
    "        train.to_csv(os.path.join(self.config.root_dir,\"train.csv\"),index= False)\n",
    "        test.to_csv(os.path.join(self.config.root_dir,\"test.csv\"),index=False)\n",
    "\n",
    "        logger.info(\"spilted data into trainng and spilting and test ddata \")\n",
    "        logger.info(\"spilted data into training and test data \")\n",
    "\n",
    "        logger.info(train.shape)\n",
    "        logger.info(test.shape)\n",
    "\n",
    "\n",
    "        print(train.shape)\n",
    "        print(test.shape)"
   ]
  },
  {
   "cell_type": "code",
   "execution_count": 12,
   "id": "661c379e",
   "metadata": {},
   "outputs": [
    {
     "name": "stdout",
     "output_type": "stream",
     "text": [
      "[2025-06-18 14:12:45,009: INFO: common: YAML file config\\config.yaml loaded successfully]\n",
      "[2025-06-18 14:12:45,080: INFO: common: YAML file params.yaml loaded successfully]\n",
      "[2025-06-18 14:12:45,127: INFO: common: YAML file schema.yaml loaded successfully]\n",
      "[2025-06-18 14:12:45,138: INFO: common: Created directory at: artifacts]\n",
      "[2025-06-18 14:12:45,172: INFO: common: Created directory at: artifacts/data_transformation]\n",
      "[2025-06-18 14:12:48,311: INFO: 1323005908: spilted data into trainng and spilting and test ddata ]\n",
      "[2025-06-18 14:12:48,315: INFO: 1323005908: spilted data into training and test data ]\n",
      "[2025-06-18 14:12:48,318: INFO: 1323005908: (1199, 12)]\n",
      "[2025-06-18 14:12:48,321: INFO: 1323005908: (400, 12)]\n",
      "(1199, 12)\n",
      "(400, 12)\n"
     ]
    }
   ],
   "source": [
    "try:\n",
    "    config = ConfigurationManger()\n",
    "    data_transformations_config = config.get_data_transformation_config()\n",
    "    data_transformation = DataTransformation(config = data_transformations_config)\n",
    "    data_transformation.train_test_spliting()\n",
    "except Exception as e:\n",
    "    raise e"
   ]
  },
  {
   "cell_type": "code",
   "execution_count": null,
   "id": "3f1e3791",
   "metadata": {},
   "outputs": [],
   "source": []
  }
 ],
 "metadata": {
  "kernelspec": {
   "display_name": "Python 3",
   "language": "python",
   "name": "python3"
  },
  "language_info": {
   "codemirror_mode": {
    "name": "ipython",
    "version": 3
   },
   "file_extension": ".py",
   "mimetype": "text/x-python",
   "name": "python",
   "nbconvert_exporter": "python",
   "pygments_lexer": "ipython3",
   "version": "3.13.2"
  }
 },
 "nbformat": 4,
 "nbformat_minor": 5
}
